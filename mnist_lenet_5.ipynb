{
  "nbformat": 4,
  "nbformat_minor": 0,
  "metadata": {
    "colab": {
      "provenance": []
    },
    "kernelspec": {
      "name": "python3",
      "display_name": "Python 3"
    },
    "language_info": {
      "name": "python"
    }
  },
  "cells": [
    {
      "cell_type": "code",
      "execution_count": null,
      "metadata": {
        "id": "RMC8Bajd2exP"
      },
      "outputs": [],
      "source": [
        "import cv2\n",
        "\n",
        "from matplotlib import pyplot as plt\n",
        "\n",
        "\n",
        "import csv\n",
        "\n",
        "import numpy as np\n",
        "\n",
        "from PIL import Image as im\n",
        "\n",
        "from skimage.metrics import structural_similarity as ssim\n"
      ]
    },
    {
      "cell_type": "markdown",
      "source": [
        "Extracting data from the mnist data set csv file and converting it into a image"
      ],
      "metadata": {
        "id": "Rehq4B-GllrP"
      }
    },
    {
      "cell_type": "code",
      "source": [
        "\n",
        "with open('sample_data/mnist_test.csv', mode ='r') as file:\n",
        "\n",
        "  csvFile = csv.reader(file)\n",
        "  lst = []\n",
        "  for lines in csvFile:\n",
        "    lst = lines\n",
        "    break\n",
        "\n",
        "num = int(lst[0])\n",
        "\n",
        "lst = lst[1:]\n",
        "\n",
        "lst = [int(i) for i in lst]\n"
      ],
      "metadata": {
        "id": "eRAM6BJi21_m"
      },
      "execution_count": null,
      "outputs": []
    },
    {
      "cell_type": "markdown",
      "source": [
        "Converting the above extracted image into a size of 32x32"
      ],
      "metadata": {
        "id": "wYrEUSJgl5um"
      }
    },
    {
      "cell_type": "code",
      "source": [
        "\n",
        "lst1 = []\n",
        "\n",
        "for i in range(0,32):\n",
        "  tmp = []\n",
        "  for j in range(0,32):\n",
        "    if(i > 1 and i < 30 and j > 1 and j < 30):\n",
        "      tmp.append(lst[(i-2)*28+(j-2)])\n",
        "    else:\n",
        "      tmp.append(0)\n",
        "  lst1.append(tmp)\n",
        "\n",
        "\n",
        "lst3 = np.array(lst1, dtype=np.int16)\n",
        "lst1 = np.array(lst1, dtype=np.uint16)\n",
        "lst11 = np.array(lst1, dtype=np.uint8)\n",
        "\n",
        "\n",
        "lst2 = lst1.reshape((32,32,1))\n",
        "\n",
        "\n",
        "plt.imshow(lst2, cmap='gray')\n",
        "plt.show()\n"
      ],
      "metadata": {
        "colab": {
          "base_uri": "https://localhost:8080/",
          "height": 430
        },
        "id": "GWgafdaQl3QT",
        "outputId": "29f6c350-accf-49ef-f0c9-badbb51ee724"
      },
      "execution_count": null,
      "outputs": [
        {
          "output_type": "display_data",
          "data": {
            "text/plain": [
              "<Figure size 640x480 with 1 Axes>"
            ],
            "image/png": "[encoded data removed]"
          },
          "metadata": {}
        }
      ]
    },
    {
      "cell_type": "markdown",
      "source": [
        "Saving the input image"
      ],
      "metadata": {
        "id": "jLXRdhIbmETt"
      }
    },
    {
      "cell_type": "code",
      "source": [
        "data = im.fromarray(lst11)\n",
        "data.save('seven.png')"
      ],
      "metadata": {
        "id": "S4tlH10ImHBh"
      },
      "execution_count": null,
      "outputs": []
    },
    {
      "cell_type": "markdown",
      "source": [
        "Writing input data into a txt file in the 8-bit binary format"
      ],
      "metadata": {
        "id": "Xol7RSikldyD"
      }
    },
    {
      "cell_type": "code",
      "source": [
        "with open('seven_uint8.txt', 'w') as f:\n",
        "  for i in range(32):\n",
        "    for j in range(32):\n",
        "      bin = str(format(lst1[i,j],'b'))\n",
        "      bin = (8-len(bin))*'0' + bin + '\\n'\n",
        "      f.write(bin)"
      ],
      "metadata": {
        "id": "XPEqyLGplZcU"
      },
      "execution_count": null,
      "outputs": []
    },
    {
      "cell_type": "markdown",
      "source": [
        "Convoluting the input image with the averaging Kernel"
      ],
      "metadata": {
        "id": "dkhvcSiNmJNo"
      }
    },
    {
      "cell_type": "code",
      "source": [
        "kernel1 = np.ones((5, 5), np.uint8)\n",
        "\n",
        "# Applying the filter2D() function\n",
        "img = cv2.filter2D(src=lst1, ddepth=-1, kernel=kernel1)\n",
        "\n",
        "print(img.shape)\n",
        "print(np.array(lst1))\n",
        "for k in lst1:\n",
        "  for j in k:\n",
        "    print(j, end=\" \")\n",
        "    # print(\" \",end=\"\")\n",
        "  print(\" \", end=\"\\n\")\n",
        "\n",
        "output_size = 28\n",
        "output_start = (5 - 1) // 2  # Adjust for odd-sized kernel\n",
        "img_filtered = img[output_start:output_start + output_size, output_start:output_start + output_size].astype(lst1.dtype)\n",
        "\n",
        "\n",
        "plt.imshow(img_filtered , cmap='gray')\n",
        "plt.show()\n",
        "# plt.savefig('seven_1.png')\n",
        "\n",
        "print(img_filtered)\n"
      ],
      "metadata": {
        "colab": {
          "base_uri": "https://localhost:8080/",
          "height": 1000
        },
        "id": "Mqsxx1kCsJNP",
        "outputId": "5310838c-919f-41e9-eb2a-7ebb17fd049f"
      },
      "execution_count": null,
      "outputs": [
        {
          "output_type": "stream",
          "name": "stdout",
          "text": [
            "(32, 32)\n",
            "[[0 0 0 ... 0 0 0]\n",
            " [0 0 0 ... 0 0 0]\n",
            " [0 0 0 ... 0 0 0]\n",
            " ...\n",
            " [0 0 0 ... 0 0 0]\n",
            " [0 0 0 ... 0 0 0]\n",
            " [0 0 0 ... 0 0 0]]\n",
            "0 0 0 0 0 0 0 0 0 0 0 0 0 0 0 0 0 0 0 0 0 0 0 0 0 0 0 0 0 0 0 0  \n",
            "0 0 0 0 0 0 0 0 0 0 0 0 0 0 0 0 0 0 0 0 0 0 0 0 0 0 0 0 0 0 0 0  \n",
            "0 0 0 0 0 0 0 0 0 0 0 0 0 0 0 0 0 0 0 0 0 0 0 0 0 0 0 0 0 0 0 0  \n",
            "0 0 0 0 0 0 0 0 0 0 0 0 0 0 0 0 0 0 0 0 0 0 0 0 0 0 0 0 0 0 0 0  \n",
            "0 0 0 0 0 0 0 0 0 0 0 0 0 0 0 0 0 0 0 0 0 0 0 0 0 0 0 0 0 0 0 0  \n",
            "0 0 0 0 0 0 0 0 0 0 0 0 0 0 0 0 0 0 0 0 0 0 0 0 0 0 0 0 0 0 0 0  \n",
            "0 0 0 0 0 0 0 0 0 0 0 0 0 0 0 0 0 0 0 0 0 0 0 0 0 0 0 0 0 0 0 0  \n",
            "0 0 0 0 0 0 0 0 0 0 0 0 0 0 0 0 0 0 0 0 0 0 0 0 0 0 0 0 0 0 0 0  \n",
            "0 0 0 0 0 0 0 0 0 0 0 0 0 0 0 0 0 0 0 0 0 0 0 0 0 0 0 0 0 0 0 0  \n",
            "0 0 0 0 0 0 0 0 84 185 159 151 60 36 0 0 0 0 0 0 0 0 0 0 0 0 0 0 0 0 0 0  \n",
            "0 0 0 0 0 0 0 0 222 254 254 254 254 241 198 198 198 198 198 198 198 198 170 52 0 0 0 0 0 0 0 0  \n",
            "0 0 0 0 0 0 0 0 67 114 72 114 163 227 254 225 254 254 254 250 229 254 254 140 0 0 0 0 0 0 0 0  \n",
            "0 0 0 0 0 0 0 0 0 0 0 0 0 17 66 14 67 67 67 59 21 236 254 106 0 0 0 0 0 0 0 0  \n",
            "0 0 0 0 0 0 0 0 0 0 0 0 0 0 0 0 0 0 0 0 83 253 209 18 0 0 0 0 0 0 0 0  \n",
            "0 0 0 0 0 0 0 0 0 0 0 0 0 0 0 0 0 0 0 22 233 255 83 0 0 0 0 0 0 0 0 0  \n",
            "0 0 0 0 0 0 0 0 0 0 0 0 0 0 0 0 0 0 0 129 254 238 44 0 0 0 0 0 0 0 0 0  \n",
            "0 0 0 0 0 0 0 0 0 0 0 0 0 0 0 0 0 0 59 249 254 62 0 0 0 0 0 0 0 0 0 0  \n",
            "0 0 0 0 0 0 0 0 0 0 0 0 0 0 0 0 0 0 133 254 187 5 0 0 0 0 0 0 0 0 0 0  \n",
            "0 0 0 0 0 0 0 0 0 0 0 0 0 0 0 0 0 9 205 248 58 0 0 0 0 0 0 0 0 0 0 0  \n",
            "0 0 0 0 0 0 0 0 0 0 0 0 0 0 0 0 0 126 254 182 0 0 0 0 0 0 0 0 0 0 0 0  \n",
            "0 0 0 0 0 0 0 0 0 0 0 0 0 0 0 0 75 251 240 57 0 0 0 0 0 0 0 0 0 0 0 0  \n",
            "0 0 0 0 0 0 0 0 0 0 0 0 0 0 0 19 221 254 166 0 0 0 0 0 0 0 0 0 0 0 0 0  \n",
            "0 0 0 0 0 0 0 0 0 0 0 0 0 0 3 203 254 219 35 0 0 0 0 0 0 0 0 0 0 0 0 0  \n",
            "0 0 0 0 0 0 0 0 0 0 0 0 0 0 38 254 254 77 0 0 0 0 0 0 0 0 0 0 0 0 0 0  \n",
            "0 0 0 0 0 0 0 0 0 0 0 0 0 31 224 254 115 1 0 0 0 0 0 0 0 0 0 0 0 0 0 0  \n",
            "0 0 0 0 0 0 0 0 0 0 0 0 0 133 254 254 52 0 0 0 0 0 0 0 0 0 0 0 0 0 0 0  \n",
            "0 0 0 0 0 0 0 0 0 0 0 0 61 242 254 254 52 0 0 0 0 0 0 0 0 0 0 0 0 0 0 0  \n",
            "0 0 0 0 0 0 0 0 0 0 0 0 121 254 254 219 40 0 0 0 0 0 0 0 0 0 0 0 0 0 0 0  \n",
            "0 0 0 0 0 0 0 0 0 0 0 0 121 254 207 18 0 0 0 0 0 0 0 0 0 0 0 0 0 0 0 0  \n",
            "0 0 0 0 0 0 0 0 0 0 0 0 0 0 0 0 0 0 0 0 0 0 0 0 0 0 0 0 0 0 0 0  \n",
            "0 0 0 0 0 0 0 0 0 0 0 0 0 0 0 0 0 0 0 0 0 0 0 0 0 0 0 0 0 0 0 0  \n",
            "0 0 0 0 0 0 0 0 0 0 0 0 0 0 0 0 0 0 0 0 0 0 0 0 0 0 0 0 0 0 0 0  \n"
          ]
        },
        {
          "output_type": "display_data",
          "data": {
            "text/plain": [
              "<Figure size 640x480 with 1 Axes>"
            ],
            "image/png": "[encoded data removed]"
          },
          "metadata": {}
        },
        {
          "output_type": "stream",
          "name": "stdout",
          "text": [
            "[[   0    0    0    0    0    0    0    0    0    0    0    0    0    0\n",
            "     0    0    0    0    0    0    0    0    0    0    0    0    0    0]\n",
            " [   0    0    0    0    0    0    0    0    0    0    0    0    0    0\n",
            "     0    0    0    0    0    0    0    0    0    0    0    0    0    0]\n",
            " [   0    0    0    0    0    0    0    0    0    0    0    0    0    0\n",
            "     0    0    0    0    0    0    0    0    0    0    0    0    0    0]\n",
            " [   0    0    0    0    0    0    0    0    0    0    0    0    0    0\n",
            "     0    0    0    0    0    0    0    0    0    0    0    0    0    0]\n",
            " [   0    0    0    0    0    0    0    0    0    0    0    0    0    0\n",
            "     0    0    0    0    0    0    0    0    0    0    0    0    0    0]\n",
            " [   0    0    0    0   84  269  428  579  639  591  406  247   96   36\n",
            "     0    0    0    0    0    0    0    0    0    0    0    0    0    0]\n",
            " [   0    0    0    0  306  745 1158 1563 1877 1848 1607 1392 1185 1069\n",
            "   990  990  990  990  962  816  618  420  222   52    0    0    0    0]\n",
            " [   0    0    0    0  373  926 1411 1930 2407 2538 2437 2375 2308 2283\n",
            "  2231 2227 2231 2231 2203 1943 1495 1068  616  192    0    0    0    0]\n",
            " [   0    0    0    0  373  926 1411 1930 2407 2555 2520 2472 2472 2514\n",
            "  2512 2501 2512 2681 2840 2619 2112 1664  976  298    0    0    0    0]\n",
            " [   0    0    0    0  373  926 1411 1930 2407 2555 2520 2472 2472 2514\n",
            "  2512 2501 2595 3017 3385 3182 2675 2144 1203  316    0    0    0    0]\n",
            " [   0    0    0    0  289  657  983 1351 1768 1964 2114 2225 2376 2478\n",
            "  2512 2523 2850 3527 3978 3775 3246 2482 1286  316    0    0    0    0]\n",
            " [   0    0    0    0   67  181  253  367  530  707  913 1080 1287 1445\n",
            "  1522 1662 2243 3158 3681 3624 3164 2344 1108  264    0    0    0    0]\n",
            " [   0    0    0    0    0    0    0    0    0   17   83   97  164  231\n",
            "   340  733 1564 2541 3064 3062 2603 1758  714  124    0    0    0    0]\n",
            " [   0    0    0    0    0    0    0    0    0    0    0    0    0    0\n",
            "   192  846 1857 2670 3006 2832 2178 1167  354   18    0    0    0    0]\n",
            " [   0    0    0    0    0    0    0    0    0    0    0    0    0    9\n",
            "   406 1308 2294 2854 2972 2575 1673  687  127    0    0    0    0    0]\n",
            " [   0    0    0    0    0    0    0    0    0    0    0    0    0  135\n",
            "   786 1848 2601 2906 2815 2164 1102  349   44    0    0    0    0    0]\n",
            " [   0    0    0    0    0    0    0    0    0    0    0    0   75  461\n",
            "  1352 2342 2841 2833 2447 1556  566   67    0    0    0    0    0    0]\n",
            " [   0    0    0    0    0    0    0    0    0    0    0   19  315  955\n",
            "  1953 2694 2920 2629 1989  991  250    5    0    0    0    0    0    0]\n",
            " [   0    0    0    0    0    0    0    0    0    0    3  225  775 1634\n",
            "  2534 3018 2854 2304 1445  545   58    0    0    0    0    0    0    0]\n",
            " [   0    0    0    0    0    0    0    0    0    0   41  517 1321 2248\n",
            "  2943 3141 2665 1861  934  239    0    0    0    0    0    0    0    0]\n",
            " [   0    0    0    0    0    0    0    0    0   31  296 1026 1945 2747\n",
            "  3157 2949 2219 1300  498   57    0    0    0    0    0    0    0    0]\n",
            " [   0    0    0    0    0    0    0    0    0  164  683 1667 2563 3114\n",
            "  3151 2632 1648  752  201    0    0    0    0    0    0    0    0    0]\n",
            " [   0    0    0    0    0    0    0    0   61  467 1240 2459 3186 3422\n",
            "  3051 2278 1059  332   35    0    0    0    0    0    0    0    0    0]\n",
            " [   0    0    0    0    0    0    0    0  182  842 1866 3101 3614 3510\n",
            "  2850 1826  591   78    0    0    0    0    0    0    0    0    0    0]\n",
            " [   0    0    0    0    0    0    0    0  303 1217 2410 3409 3668 3366\n",
            "  2452 1259  260    1    0    0    0    0    0    0    0    0    0    0]\n",
            " [   0    0    0    0    0    0    0    0  303 1186 2155 2900 3044 2741\n",
            "  1858  889  144    0    0    0    0    0    0    0    0    0    0    0]\n",
            " [   0    0    0    0    0    0    0    0  303 1053 1768 2259 2351 2048\n",
            "  1298  583   92    0    0    0    0    0    0    0    0    0    0    0]\n",
            " [   0    0    0    0    0    0    0    0  242  750 1211 1448 1488 1246\n",
            "   738  277   40    0    0    0    0    0    0    0    0    0    0    0]]\n"
          ]
        }
      ]
    },
    {
      "cell_type": "markdown",
      "source": [
        "Extracting the output image data from a txt file generated in Vivado"
      ],
      "metadata": {
        "id": "XTgRRrbzmUpm"
      }
    },
    {
      "cell_type": "code",
      "source": [
        "out_avg_fil = np.zeros((28,28), dtype=np.uint16)\n",
        "\n",
        "def bintoint(line):\n",
        "  tmp = 0\n",
        "  for i in range(0,16):\n",
        "    if(line[i] == '1'):\n",
        "      tmp = tmp + 1\n",
        "    if(i < 15):\n",
        "      tmp = tmp * 2\n",
        "  return tmp\n",
        "\n",
        "with open('out_img32_ker5_1.txt', 'r') as f:\n",
        "  for i in range(28):\n",
        "    for j in range(28):\n",
        "      if(i==27 and j == 27):\n",
        "        out_avg_fil[i,j] = 0\n",
        "      else:\n",
        "        out_avg_fil[i,j] = bintoint(f.readline())\n",
        "\n",
        "# print(out_avg_fil)\n",
        "plt.imshow(out_avg_fil, cmap = 'gray')\n",
        "plt.show()"
      ],
      "metadata": {
        "id": "GjbRM6xPf1Bc",
        "colab": {
          "base_uri": "https://localhost:8080/",
          "height": 430
        },
        "outputId": "cf98d1fe-18ad-4e13-bcfd-affc8097edb4"
      },
      "execution_count": null,
      "outputs": [
        {
          "output_type": "display_data",
          "data": {
            "text/plain": [
              "<Figure size 640x480 with 1 Axes>"
            ],
            "image/png": "[encoded data removed]"
          },
          "metadata": {}
        }
      ]
    },
    {
      "cell_type": "markdown",
      "source": [
        "Finding the similarity of images using ssim"
      ],
      "metadata": {
        "id": "BpXt76P5mfiJ"
      }
    },
    {
      "cell_type": "code",
      "source": [
        "similarity_index, _ = ssim(img_filtered, out_avg_fil, full=True)\n",
        "\n",
        "print(similarity_index)"
      ],
      "metadata": {
        "colab": {
          "base_uri": "https://localhost:8080/"
        },
        "id": "-La0JFnOk4CI",
        "outputId": "62449a3e-412f-4096-bd93-3ebb7771d4d8"
      },
      "execution_count": null,
      "outputs": [
        {
          "output_type": "stream",
          "name": "stdout",
          "text": [
            "0.9999638933068133\n"
          ]
        }
      ]
    },
    {
      "cell_type": "markdown",
      "source": [
        "With sobel left filter"
      ],
      "metadata": {
        "id": "AisZgs-NmtX8"
      }
    },
    {
      "cell_type": "code",
      "source": [
        "sobel_left_kernel = np.zeros((5,5), dtype = np.uint8)\n",
        "\n",
        "\n",
        "sobel_left_kernel[0,:] =  [-1, -2, 0, 2, 1]\n",
        "sobel_left_kernel[1,:] =  [-4, -8, 0, 8, 4]\n",
        "sobel_left_kernel[2,:] =  [-6, -12, 0, 12, 6]\n",
        "sobel_left_kernel[3,:] =  [-4, -8, 0, 8, 4]\n",
        "sobel_left_kernel[4,:] =  [-1, -2, 0, 2, 1]\n",
        "\n",
        "print(sobel_left_kernel)\n",
        "# Applying the filter2D() function\n",
        "\n",
        "img = cv2.filter2D(src=lst1, ddepth=-1, kernel=sobel_left_kernel)\n",
        "\n",
        "print(img.shape)\n",
        "\n",
        "output_size = 28\n",
        "output_start = (5 - 1) // 2  # Adjust for odd-sized kernel\n",
        "img_filtered_sobel_left = img[output_start:output_start + output_size, output_start:output_start + output_size]\n",
        "\n",
        "plt.imshow(img_filtered_sobel_left , cmap='gray')\n",
        "plt.show()\n",
        "\n",
        "print(img_filtered_sobel_left)\n"
      ],
      "metadata": {
        "id": "lZ9Oqvi7nHkT",
        "colab": {
          "base_uri": "https://localhost:8080/",
          "height": 1000
        },
        "outputId": "a7638ce8-5eaf-4d26-a21e-428b0724f0a7"
      },
      "execution_count": null,
      "outputs": [
        {
          "output_type": "stream",
          "name": "stdout",
          "text": [
            "[[255 254   0   2   1]\n",
            " [252 248   0   8   4]\n",
            " [250 244   0  12   6]\n",
            " [252 248   0   8   4]\n",
            " [255 254   0   2   1]]\n",
            "(32, 32)\n"
          ]
        },
        {
          "output_type": "stream",
          "name": "stderr",
          "text": [
            "<ipython-input-16-6907d120f7c6>:4: DeprecationWarning: NumPy will stop allowing conversion of out-of-bound Python integers to integer arrays.  The conversion of -1 to uint8 will fail in the future.\n",
            "For the old behavior, usually:\n",
            "    np.array(value).astype(dtype)\n",
            "will give the desired result (the cast overflows).\n",
            "  sobel_left_kernel[0,:] =  [-1, -2, 0, 2, 1]\n",
            "<ipython-input-16-6907d120f7c6>:4: DeprecationWarning: NumPy will stop allowing conversion of out-of-bound Python integers to integer arrays.  The conversion of -2 to uint8 will fail in the future.\n",
            "For the old behavior, usually:\n",
            "    np.array(value).astype(dtype)\n",
            "will give the desired result (the cast overflows).\n",
            "  sobel_left_kernel[0,:] =  [-1, -2, 0, 2, 1]\n",
            "<ipython-input-16-6907d120f7c6>:5: DeprecationWarning: NumPy will stop allowing conversion of out-of-bound Python integers to integer arrays.  The conversion of -4 to uint8 will fail in the future.\n",
            "For the old behavior, usually:\n",
            "    np.array(value).astype(dtype)\n",
            "will give the desired result (the cast overflows).\n",
            "  sobel_left_kernel[1,:] =  [-4, -8, 0, 8, 4]\n",
            "<ipython-input-16-6907d120f7c6>:5: DeprecationWarning: NumPy will stop allowing conversion of out-of-bound Python integers to integer arrays.  The conversion of -8 to uint8 will fail in the future.\n",
            "For the old behavior, usually:\n",
            "    np.array(value).astype(dtype)\n",
            "will give the desired result (the cast overflows).\n",
            "  sobel_left_kernel[1,:] =  [-4, -8, 0, 8, 4]\n",
            "<ipython-input-16-6907d120f7c6>:6: DeprecationWarning: NumPy will stop allowing conversion of out-of-bound Python integers to integer arrays.  The conversion of -6 to uint8 will fail in the future.\n",
            "For the old behavior, usually:\n",
            "    np.array(value).astype(dtype)\n",
            "will give the desired result (the cast overflows).\n",
            "  sobel_left_kernel[2,:] =  [-6, -12, 0, 12, 6]\n",
            "<ipython-input-16-6907d120f7c6>:6: DeprecationWarning: NumPy will stop allowing conversion of out-of-bound Python integers to integer arrays.  The conversion of -12 to uint8 will fail in the future.\n",
            "For the old behavior, usually:\n",
            "    np.array(value).astype(dtype)\n",
            "will give the desired result (the cast overflows).\n",
            "  sobel_left_kernel[2,:] =  [-6, -12, 0, 12, 6]\n",
            "<ipython-input-16-6907d120f7c6>:7: DeprecationWarning: NumPy will stop allowing conversion of out-of-bound Python integers to integer arrays.  The conversion of -4 to uint8 will fail in the future.\n",
            "For the old behavior, usually:\n",
            "    np.array(value).astype(dtype)\n",
            "will give the desired result (the cast overflows).\n",
            "  sobel_left_kernel[3,:] =  [-4, -8, 0, 8, 4]\n",
            "<ipython-input-16-6907d120f7c6>:7: DeprecationWarning: NumPy will stop allowing conversion of out-of-bound Python integers to integer arrays.  The conversion of -8 to uint8 will fail in the future.\n",
            "For the old behavior, usually:\n",
            "    np.array(value).astype(dtype)\n",
            "will give the desired result (the cast overflows).\n",
            "  sobel_left_kernel[3,:] =  [-4, -8, 0, 8, 4]\n",
            "<ipython-input-16-6907d120f7c6>:8: DeprecationWarning: NumPy will stop allowing conversion of out-of-bound Python integers to integer arrays.  The conversion of -1 to uint8 will fail in the future.\n",
            "For the old behavior, usually:\n",
            "    np.array(value).astype(dtype)\n",
            "will give the desired result (the cast overflows).\n",
            "  sobel_left_kernel[4,:] =  [-1, -2, 0, 2, 1]\n",
            "<ipython-input-16-6907d120f7c6>:8: DeprecationWarning: NumPy will stop allowing conversion of out-of-bound Python integers to integer arrays.  The conversion of -2 to uint8 will fail in the future.\n",
            "For the old behavior, usually:\n",
            "    np.array(value).astype(dtype)\n",
            "will give the desired result (the cast overflows).\n",
            "  sobel_left_kernel[4,:] =  [-1, -2, 0, 2, 1]\n"
          ]
        },
        {
          "output_type": "display_data",
          "data": {
            "text/plain": [
              "<Figure size 640x480 with 1 Axes>"
            ],
            "image/png": "[encoded data removed]"
          },
          "metadata": {}
        },
        {
          "output_type": "stream",
          "name": "stdout",
          "text": [
            "[[    0     0     0     0     0     0     0     0     0     0     0     0\n",
            "      0     0     0     0     0     0     0     0     0     0     0     0\n",
            "      0     0     0     0]\n",
            " [    0     0     0     0     0     0     0     0     0     0     0     0\n",
            "      0     0     0     0     0     0     0     0     0     0     0     0\n",
            "      0     0     0     0]\n",
            " [    0     0     0     0     0     0     0     0     0     0     0     0\n",
            "      0     0     0     0     0     0     0     0     0     0     0     0\n",
            "      0     0     0     0]\n",
            " [    0     0     0     0     0     0     0     0     0     0     0     0\n",
            "      0     0     0     0     0     0     0     0     0     0     0     0\n",
            "      0     0     0     0]\n",
            " [    0     0     0     0     0     0     0     0     0     0     0     0\n",
            "      0     0     0     0     0     0     0     0     0     0     0     0\n",
            "      0     0     0     0]\n",
            " [    0     0     0     0    84   353   529 21805 65535 65535 65535 53745\n",
            "  24444  9180     0     0     0     0     0     0     0     0     0     0\n",
            "      0     0     0     0]\n",
            " [    0     0     0     0   558  2110  2878 65535 65535 65535 65535 65535\n",
            "  65535 65535 65535 65535 65535 65535 65535 65535 65535 65535 56558 13260\n",
            "      0     0     0     0]\n",
            " [    0     0     0     0  1459  5158  6522 65535 65535 65535 65535 65535\n",
            "  65535 65535 65535 65535 65535 65535 65535 65535 65535 65535 65535 48804\n",
            "      0     0     0     0]\n",
            " [    0     0     0     0  1936  6592  7888 65535 65535 65535 65535 65535\n",
            "  65535 65535 65535 65535 65535 65535 65535 65535 65535 65535 65535 65535\n",
            "      0     0     0     0]\n",
            " [    0     0     0     0  1374  4633  5377 65535 65535 65535 65535 65535\n",
            "  65535 65535 65535 65535 65535 65535 65535 65535 65535 65535 65535 65535\n",
            "      0     0     0     0]\n",
            " [    0     0     0     0   490  1690  1962 65535 65535 65535 65535 65535\n",
            "  65535 65535 65535 65535 65535 65535 65535 65535 65535 65535 65535 65535\n",
            "      0     0     0     0]\n",
            " [    0     0     0     0    67   248   300 17276 46432 47979 48424 65535\n",
            "  65535 65535 65535 65535 65535 65535 65535 65535 65535 65535 65535 65535\n",
            "      0     0     0     0]\n",
            " [    0     0     0     0     0     0     0     0     0    17   100   146\n",
            "   4413 21300 20646 21796 39036 58923 65535 65535 65535 65535 65535 31566\n",
            "      0     0     0     0]\n",
            " [    0     0     0     0     0     0     0     0     0     0     0     0\n",
            "      0     0   369  2850  7966 58852 65535 65535 65535 65535 65535  4590\n",
            "      0     0     0     0]\n",
            " [    0     0     0     0     0     0     0     0     0     0     0     0\n",
            "      0     9  1109  5478 12457 65535 65535 65535 65535 65535 32253     0\n",
            "      0     0     0     0]\n",
            " [    0     0     0     0     0     0     0     0     0     0     0     0\n",
            "      0   162  2432  8039 44506 65535 65535 65535 65535 65535 11220     0\n",
            "      0     0     0     0]\n",
            " [    0     0     0     0     0     0     0     0     0     0     0     0\n",
            "     75   959  4695 28742 65535 65535 65535 65535 65535 17070     0     0\n",
            "      0     0     0     0]\n",
            " [    0     0     0     0     0     0     0     0     0     0     0    19\n",
            "    559  3092 12529 65535 65535 65535 65535 65535 63571  1275     0     0\n",
            "      0     0     0     0]\n",
            " [    0     0     0     0     0     0     0     0     0     0     3   285\n",
            "   2146  7192 65535 65535 65535 65535 65535 65535 14790     0     0     0\n",
            "      0     0     0     0]\n",
            " [    0     0     0     0     0     0     0     0     0     0    50  1280\n",
            "   5256 19795 65535 65535 65535 65535 65535 60774     0     0     0     0\n",
            "      0     0     0     0]\n",
            " [    0     0     0     0     0     0     0     0     0    31   456  3352\n",
            "  16616 65535 65535 65535 65535 65535 65535 14535     0     0     0     0\n",
            "      0     0     0     0]\n",
            " [    0     0     0     0     0     0     0     0     0   257  1904  6405\n",
            "  51993 65535 65535 65535 65535 65535 51150     0     0     0     0     0\n",
            "      0     0     0     0]\n",
            " [    0     0     0     0     0     0     0     0    61  1082  4689 25045\n",
            "  65535 65535 65535 65535 65535 65535  8925     0     0     0     0     0\n",
            "      0     0     0     0]\n",
            " [    0     0     0     0     0     0     0     0   365  2874  8016 57347\n",
            "  65535 65535 65535 65535 65535 19887     0     0     0     0     0     0\n",
            "      0     0     0     0]\n",
            " [    0     0     0     0     0     0     0     0   971  5227 10557 65535\n",
            "  65535 65535 65535 65535 65535   255     0     0     0     0     0     0\n",
            "      0     0     0     0]\n",
            " [    0     0     0     0     0     0     0     0  1454  6549 10904 65535\n",
            "  65535 65535 65535 65535 36364     0     0     0     0     0     0     0\n",
            "      0     0     0     0]\n",
            " [    0     0     0     0     0     0     0     0  1271  5324  8076 65535\n",
            "  65535 65535 65535 65535 23340     0     0     0     0     0     0     0\n",
            "      0     0     0     0]\n",
            " [    0     0     0     0     0     0     0     0   605  2480  3622 63197\n",
            "  65535 65535 65535 65535 10200     0     0     0     0     0     0     0\n",
            "      0     0     0     0]]\n"
          ]
        }
      ]
    },
    {
      "cell_type": "code",
      "source": [
        "\n",
        "ker = sobel_left_kernel\n",
        "\n",
        "out1 = np.zeros((28,28), dtype = np.uint16)\n",
        "\n",
        "for i in range(0,28):\n",
        "  for j in range(0,28):\n",
        "    out1[i,j] = ker[0,0] * lst1[i,j] + ker[0,1] * lst1[i,j+1]+ ker[0,2] * lst1[i,j+2]+ ker[0,3] * lst1[i,j+3]+ ker[0,4] * lst1[i,j+4]\n",
        "    out1[i,j] = out1[i,j] + ker[1,0] * lst1[i+1,j] + ker[1,1] * lst1[i+1,j+1]+ ker[1,2] * lst1[i+1,j+2]+ ker[1,3] * lst1[i+1,j+3]+ ker[1,4] * lst1[i+1,j+4]\n",
        "    out1[i,j] = out1[i,j] + ker[2,0] * lst1[i+2,j] + ker[2,1] * lst1[i+2,j+1]+ ker[2,2] * lst1[i+2,j+2]+ ker[2,3] * lst1[i+2,j+3]+ ker[2,4] * lst1[i+2,j+4]\n",
        "    out1[i,j] = out1[i,j] + ker[3,0] * lst1[i+3,j] + ker[3,1] * lst1[i+3,j+1]+ ker[3,2] * lst1[i+3,j+2]+ ker[3,3] * lst1[i+3,j+3]+ ker[3,4] * lst1[i+3,j+4]\n",
        "    out1[i,j] = out1[i,j] + ker[4,0] * lst1[i+4,j] + ker[4,1] * lst1[i+4,j+1]+ ker[4,2] * lst1[i+4,j+2]+ ker[4,3] * lst1[i+4,j+3]+ ker[4,4] * lst1[i+4,j+4]\n",
        "\n",
        "plt.imshow(out1 , cmap='gray')\n",
        "plt.show()\n",
        "\n",
        "print(out1)"
      ],
      "metadata": {
        "id": "4v7ixNJQ5nxe",
        "colab": {
          "base_uri": "https://localhost:8080/",
          "height": 1000
        },
        "outputId": "a8f7066b-702e-4e7a-ee43-49ababbeaaeb"
      },
      "execution_count": null,
      "outputs": [
        {
          "output_type": "stream",
          "name": "stderr",
          "text": [
            "<ipython-input-17-5eaa47c73826>:11: RuntimeWarning: overflow encountered in scalar add\n",
            "  out1[i,j] = out1[i,j] + ker[4,0] * lst1[i+4,j] + ker[4,1] * lst1[i+4,j+1]+ ker[4,2] * lst1[i+4,j+2]+ ker[4,3] * lst1[i+4,j+3]+ ker[4,4] * lst1[i+4,j+4]\n",
            "<ipython-input-17-5eaa47c73826>:10: RuntimeWarning: overflow encountered in scalar add\n",
            "  out1[i,j] = out1[i,j] + ker[3,0] * lst1[i+3,j] + ker[3,1] * lst1[i+3,j+1]+ ker[3,2] * lst1[i+3,j+2]+ ker[3,3] * lst1[i+3,j+3]+ ker[3,4] * lst1[i+3,j+4]\n",
            "<ipython-input-17-5eaa47c73826>:9: RuntimeWarning: overflow encountered in scalar add\n",
            "  out1[i,j] = out1[i,j] + ker[2,0] * lst1[i+2,j] + ker[2,1] * lst1[i+2,j+1]+ ker[2,2] * lst1[i+2,j+2]+ ker[2,3] * lst1[i+2,j+3]+ ker[2,4] * lst1[i+2,j+4]\n",
            "<ipython-input-17-5eaa47c73826>:8: RuntimeWarning: overflow encountered in scalar add\n",
            "  out1[i,j] = out1[i,j] + ker[1,0] * lst1[i+1,j] + ker[1,1] * lst1[i+1,j+1]+ ker[1,2] * lst1[i+1,j+2]+ ker[1,3] * lst1[i+1,j+3]+ ker[1,4] * lst1[i+1,j+4]\n",
            "<ipython-input-17-5eaa47c73826>:7: RuntimeWarning: overflow encountered in scalar add\n",
            "  out1[i,j] = ker[0,0] * lst1[i,j] + ker[0,1] * lst1[i,j+1]+ ker[0,2] * lst1[i,j+2]+ ker[0,3] * lst1[i,j+3]+ ker[0,4] * lst1[i,j+4]\n"
          ]
        },
        {
          "output_type": "display_data",
          "data": {
            "text/plain": [
              "<Figure size 640x480 with 1 Axes>"
            ],
            "image/png": "[encoded data removed]"
          },
          "metadata": {}
        },
        {
          "output_type": "stream",
          "name": "stdout",
          "text": [
            "[[    0     0     0     0     0     0     0     0     0     0     0     0\n",
            "      0     0     0     0     0     0     0     0     0     0     0     0\n",
            "      0     0     0     0]\n",
            " [    0     0     0     0     0     0     0     0     0     0     0     0\n",
            "      0     0     0     0     0     0     0     0     0     0     0     0\n",
            "      0     0     0     0]\n",
            " [    0     0     0     0     0     0     0     0     0     0     0     0\n",
            "      0     0     0     0     0     0     0     0     0     0     0     0\n",
            "      0     0     0     0]\n",
            " [    0     0     0     0     0     0     0     0     0     0     0     0\n",
            "      0     0     0     0     0     0     0     0     0     0     0     0\n",
            "      0     0     0     0]\n",
            " [    0     0     0     0     0     0     0     0     0     0     0     0\n",
            "      0     0     0     0     0     0     0     0     0     0     0     0\n",
            "      0     0     0     0]\n",
            " [    0     0     0     0    84   353   529 21805  3236 22181 13435 53745\n",
            "  24444  9180     0     0     0     0     0     0     0     0     0     0\n",
            "      0     0     0     0]\n",
            " [    0     0     0     0   558  2110  2878 14322 59312 20103 11162 51740\n",
            "  19554 55877 35840 35840 35840 35840 35812 35638 35350 28134 56558 13260\n",
            "      0     0     0     0]\n",
            " [    0     0     0     0  1459  5158  6522 33154 40120  1745 58162 56363\n",
            "  53255 47767 27450 27417 34783 34766 33688 26524 25999 24734 24994 48804\n",
            "      0     0     0     0]\n",
            " [    0     0     0     0  1936  6592  7888 33560 40656  3315 60100 57594\n",
            "  57909  3598 48211 48273  3390  3461   917 46933 23623 14996 49002  9774\n",
            "      0     0     0     0]\n",
            " [    0     0     0     0  1374  4633  5377 32269 41060  5023 62547 59767\n",
            "  58946  4002 48648 48458  3221  4011  3327  4738 42773 64381 39415 13870\n",
            "      0     0     0     0]\n",
            " [    0     0     0     0   490  1690  1962  9262 37536 47861 48742  6232\n",
            "  34876 60537 48746 48520  3689  6243 12803  6722 36049 19053 60803 14040\n",
            "      0     0     0     0]\n",
            " [    0     0     0     0    67   248   300 17276 46432 47979 48424  6253\n",
            "  38987 13547 12518 12710 35117 39682 12248  1775 58983 63954 17260  1376\n",
            "      0     0     0     0]\n",
            " [    0     0     0     0     0     0     0     0     0    17   100   146\n",
            "   4413 21300 20646 21796 39036 58923 25998  2852 14583 17768 49592 31566\n",
            "      0     0     0     0]\n",
            " [    0     0     0     0     0     0     0     0     0     0     0     0\n",
            "      0     0   369  2850  7966 58852 22088 25056 64114 27436 24247  4590\n",
            "      0     0     0     0]\n",
            " [    0     0     0     0     0     0     0     0     0     0     0     0\n",
            "      0     9  1109  5478 12457 44966   638 14640 61319 42683 32253     0\n",
            "      0     0     0     0]\n",
            " [    0     0     0     0     0     0     0     0     0     0     0     0\n",
            "      0   162  2432  8039 44506  5994 36634 62441  5048 23204 11220     0\n",
            "      0     0     0     0]\n",
            " [    0     0     0     0     0     0     0     0     0     0     0     0\n",
            "     75   959  4695 28742 59213 60587 12795 47266 12310 17070     0     0\n",
            "      0     0     0     0]\n",
            " [    0     0     0     0     0     0     0     0     0     0     0    19\n",
            "    559  3092 12529 23815 43938 17699 43243 52404 63571  1275     0     0\n",
            "      0     0     0     0]\n",
            " [    0     0     0     0     0     0     0     0     0     0     3   285\n",
            "   2146  7192  1371  5607 27622 47230 21396  7014 14790     0     0     0\n",
            "      0     0     0     0]\n",
            " [    0     0     0     0     0     0     0     0     0     0    50  1280\n",
            "   5256 19795  8434 63674 40630 13709 39326 60774     0     0     0     0\n",
            "      0     0     0     0]\n",
            " [    0     0     0     0     0     0     0     0     0    31   456  3352\n",
            "  16616 19539 59484 21421 38080 50946 60724 14535     0     0     0     0\n",
            "      0     0     0     0]\n",
            " [    0     0     0     0     0     0     0     0     0   257  1904  6405\n",
            "  51993 48881 51946 12969 36287 59232 51150     0     0     0     0     0\n",
            "      0     0     0     0]\n",
            " [    0     0     0     0     0     0     0     0    61  1082  4689 25045\n",
            "  62281 38155 41506 31041 62250 18853  8925     0     0     0     0     0\n",
            "      0     0     0     0]\n",
            " [    0     0     0     0     0     0     0     0   365  2874  8016 57347\n",
            "  23623 30917 42392 47695 18788 19887     0     0     0     0     0     0\n",
            "      0     0     0     0]\n",
            " [    0     0     0     0     0     0     0     0   971  5227 10557 21752\n",
            "  50038  5436 25503 54626   227   255     0     0     0     0     0     0\n",
            "      0     0     0     0]\n",
            " [    0     0     0     0     0     0     0     0  1454  6549 10904 19024\n",
            "  38548  5475 36634 27320 36364     0     0     0     0     0     0     0\n",
            "      0     0     0     0]\n",
            " [    0     0     0     0     0     0     0     0  1271  5324  8076 15752\n",
            "   3277 39978 41604 16514 23340     0     0     0     0     0     0     0\n",
            "      0     0     0     0]\n",
            " [    0     0     0     0     0     0     0     0   605  2480  3622 63197\n",
            "  58405 48102 45952  5005 10200     0     0     0     0     0     0     0\n",
            "      0     0     0     0]]\n"
          ]
        }
      ]
    },
    {
      "cell_type": "code",
      "source": [
        "out_sobel_left = np.zeros((28,28), dtype=np.uint16)\n",
        "\n",
        "def bintoint(line):\n",
        "  tmp = 0\n",
        "  for i in range(0,16):\n",
        "    if(line[i] == '1'):\n",
        "      tmp = tmp + 1\n",
        "    if(i < 15):\n",
        "      tmp = tmp * 2\n",
        "  return tmp\n",
        "\n",
        "with open('seven_sobel_left.txt', 'r') as f:\n",
        "  for i in range(28):\n",
        "    for j in range(28):\n",
        "      if(i==27 and j == 27):\n",
        "        out_sobel_left[i,j] = 0\n",
        "      else:\n",
        "        out_sobel_left[i,j] = bintoint(f.readline())\n",
        "\n",
        "plt.imshow(out_sobel_left, cmap = 'gray')\n",
        "plt.show()\n",
        "\n",
        "# print(out_sobel_left)\n"
      ],
      "metadata": {
        "id": "RdZsvH0jn3ZK",
        "colab": {
          "base_uri": "https://localhost:8080/",
          "height": 220
        },
        "outputId": "f18f53ed-bc01-40c4-cfce-5f894ed154cc"
      },
      "execution_count": null,
      "outputs": [
        {
          "output_type": "error",
          "ename": "FileNotFoundError",
          "evalue": "[Errno 2] No such file or directory: 'seven_sobel_left.txt'",
          "traceback": [
            "\u001b[0;31m---------------------------------------------------------------------------\u001b[0m",
            "\u001b[0;31mFileNotFoundError\u001b[0m                         Traceback (most recent call last)",
            "\u001b[0;32m<ipython-input-18-333ff9544bf1>\u001b[0m in \u001b[0;36m<cell line: 12>\u001b[0;34m()\u001b[0m\n\u001b[1;32m     10\u001b[0m   \u001b[0;32mreturn\u001b[0m \u001b[0mtmp\u001b[0m\u001b[0;34m\u001b[0m\u001b[0;34m\u001b[0m\u001b[0m\n\u001b[1;32m     11\u001b[0m \u001b[0;34m\u001b[0m\u001b[0m\n\u001b[0;32m---> 12\u001b[0;31m \u001b[0;32mwith\u001b[0m \u001b[0mopen\u001b[0m\u001b[0;34m(\u001b[0m\u001b[0;34m'seven_sobel_left.txt'\u001b[0m\u001b[0;34m,\u001b[0m \u001b[0;34m'r'\u001b[0m\u001b[0;34m)\u001b[0m \u001b[0;32mas\u001b[0m \u001b[0mf\u001b[0m\u001b[0;34m:\u001b[0m\u001b[0;34m\u001b[0m\u001b[0;34m\u001b[0m\u001b[0m\n\u001b[0m\u001b[1;32m     13\u001b[0m   \u001b[0;32mfor\u001b[0m \u001b[0mi\u001b[0m \u001b[0;32min\u001b[0m \u001b[0mrange\u001b[0m\u001b[0;34m(\u001b[0m\u001b[0;36m28\u001b[0m\u001b[0;34m)\u001b[0m\u001b[0;34m:\u001b[0m\u001b[0;34m\u001b[0m\u001b[0;34m\u001b[0m\u001b[0m\n\u001b[1;32m     14\u001b[0m     \u001b[0;32mfor\u001b[0m \u001b[0mj\u001b[0m \u001b[0;32min\u001b[0m \u001b[0mrange\u001b[0m\u001b[0;34m(\u001b[0m\u001b[0;36m28\u001b[0m\u001b[0;34m)\u001b[0m\u001b[0;34m:\u001b[0m\u001b[0;34m\u001b[0m\u001b[0;34m\u001b[0m\u001b[0m\n",
            "\u001b[0;31mFileNotFoundError\u001b[0m: [Errno 2] No such file or directory: 'seven_sobel_left.txt'"
          ]
        }
      ]
    },
    {
      "cell_type": "code",
      "source": [
        "similarity_index_sobel_left, _ = ssim(img_filtered_sobel_left, out_sobel_left, full=True)\n",
        "\n",
        "print(similarity_index_sobel_left)\n",
        "\n",
        "similarity_index_sobel_left, _ = ssim(out1, out_sobel_left, full=True)\n",
        "\n",
        "print(similarity_index_sobel_left)"
      ],
      "metadata": {
        "id": "vG0Zll_Ao92N"
      },
      "execution_count": null,
      "outputs": []
    }
  ]
}